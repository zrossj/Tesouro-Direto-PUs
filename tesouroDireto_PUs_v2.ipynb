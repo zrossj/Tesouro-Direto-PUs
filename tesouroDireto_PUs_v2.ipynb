{
 "cells": [
  {
   "cell_type": "code",
   "execution_count": 1,
   "metadata": {},
   "outputs": [],
   "source": [
    "import pandas as pd\n",
    "import datetime as dt\n",
    "import re\n",
    "from selenium import webdriver\n",
    "from selenium.webdriver.chrome.service import Service\n",
    "from selenium.webdriver.chrome.options import Options\n",
    "from bs4 import BeautifulSoup\n",
    "from app.data_processing import data_processing\n",
    "\n",
    "\n",
    "import logging"
   ]
  },
  {
   "cell_type": "code",
   "execution_count": 3,
   "metadata": {},
   "outputs": [],
   "source": [
    "log = logging.getLogger(__name__)\n",
    "logging.basicConfig(filename = 'tesouroDireto.log', level = logging.INFO)\n"
   ]
  },
  {
   "cell_type": "markdown",
   "metadata": {},
   "source": [
    "<h3> Selenium Driver v2 </h3>"
   ]
  },
  {
   "cell_type": "code",
   "execution_count": 4,
   "metadata": {},
   "outputs": [],
   "source": [
    "from app.SeleniumWebDriver import SeleniumWebDriver\n",
    "\n",
    "url = 'https://www.tesourodireto.com.br/titulos/precos-e-taxas.htm'\n",
    "driver = SeleniumWebDriver()"
   ]
  },
  {
   "cell_type": "code",
   "execution_count": 5,
   "metadata": {},
   "outputs": [
    {
     "name": "stdout",
     "output_type": "stream",
     "text": [
      "Got an error while regex to clean data. Error type: list index out of range\n",
      "error data or variable: []\n",
      "Got an error while regex to clean data. Error type: list index out of range\n",
      "error data or variable: []\n"
     ]
    }
   ],
   "source": [
    "# gets the dataframes from scraped data;\n",
    "dfs = driver.get_raw_tables(url)\n",
    "\n",
    "log.info(\"Dataframes collected\")"
   ]
  },
  {
   "cell_type": "markdown",
   "metadata": {},
   "source": [
    "### Cleaning and Transforming"
   ]
  },
  {
   "cell_type": "code",
   "execution_count": 6,
   "metadata": {},
   "outputs": [],
   "source": [
    "df = data_processing(dfs)"
   ]
  },
  {
   "cell_type": "markdown",
   "metadata": {},
   "source": [
    "<h3> Putting On DB Postgres </h3>"
   ]
  },
  {
   "cell_type": "markdown",
   "metadata": {},
   "source": [
    "<h5> DB Credentials </h5>"
   ]
  },
  {
   "cell_type": "code",
   "execution_count": 7,
   "metadata": {},
   "outputs": [
    {
     "name": "stdout",
     "output_type": "stream",
     "text": [
      "Ops! We got an error on the transactional block: (psycopg2.errors.DuplicateTable) relation \"br_treasury_titles\" already exists\n",
      "\n",
      "[SQL:  BEGIN;\n",
      "                    CREATE TABLE br_treasury_titles\n",
      "                    (\n",
      "                        data date,\n",
      "                        titulo varchar(64), \n",
      "                        taxa varchar(64), \n",
      "                        pu numeric(7,2), \n",
      "                        vencimento date,\n",
      "                        ask_bid varchar(16)\n",
      "                    );\n",
      "                    \n",
      "                    ALTER TABLE br_treasury_titles ADD CONSTRAINT \"uniTiDaVen\" UNIQUE (titulo, vencimento, data, ask_bid);\n",
      "                    \n",
      "                    COMMIT;\n",
      "                    ]\n",
      "(Background on this error at: https://sqlalche.me/e/20/f405)\n",
      "there is duplicated data\n"
     ]
    },
    {
     "data": {
      "text/plain": [
       "'DB script executed!'"
      ]
     },
     "execution_count": 7,
     "metadata": {},
     "output_type": "execute_result"
    }
   ],
   "source": [
    "from app.put_DB import put_DB\n",
    "\n",
    "put_DB(df)\n"
   ]
  },
  {
   "cell_type": "code",
   "execution_count": 19,
   "metadata": {},
   "outputs": [],
   "source": []
  }
 ],
 "metadata": {
  "kernelspec": {
   "display_name": "Python 3",
   "language": "python",
   "name": "python3"
  },
  "language_info": {
   "codemirror_mode": {
    "name": "ipython",
    "version": 3
   },
   "file_extension": ".py",
   "mimetype": "text/x-python",
   "name": "python",
   "nbconvert_exporter": "python",
   "pygments_lexer": "ipython3",
   "version": "3.11.5"
  }
 },
 "nbformat": 4,
 "nbformat_minor": 2
}

{
 "cells": [
  {
   "cell_type": "code",
   "execution_count": 1,
   "metadata": {},
   "outputs": [],
   "source": [
    "import pandas as pd\n",
    "import datetime as dt\n",
    "import re\n",
    "from selenium import webdriver\n",
    "from selenium.webdriver.chrome.service import Service\n",
    "from selenium.webdriver.chrome.options import Options\n",
    "from bs4 import BeautifulSoup"
   ]
  },
  {
   "cell_type": "code",
   "execution_count": 2,
   "metadata": {},
   "outputs": [],
   "source": [
    "#python 3.11.5\n",
    "#selenium==4.24.0\n",
    "#Flask-SQLAlchemy==2.5.1\n",
    "#pandas==2.0.3\n",
    "#bs4==0.0.2\n",
    "#psycopg2-binary==2.9.9\n"
   ]
  },
  {
   "cell_type": "markdown",
   "metadata": {},
   "source": [
    "<h4> Selenium Driver for Firefox </h4>"
   ]
  },
  {
   "cell_type": "code",
   "execution_count": 3,
   "metadata": {},
   "outputs": [],
   "source": [
    "driver=webdriver.Firefox()\n",
    "\n",
    "driver.get('https://www.tesourodireto.com.br/titulos/precos-e-taxas.htm')\n",
    "\n",
    "data = driver.page_source\n"
   ]
  },
  {
   "cell_type": "markdown",
   "metadata": {},
   "source": [
    "<h3> bs4 soup </h3>"
   ]
  },
  {
   "cell_type": "code",
   "execution_count": 4,
   "metadata": {},
   "outputs": [],
   "source": [
    "soup = BeautifulSoup(data, 'html.parser')\n",
    "\n",
    "soup = soup.find_all('table') # for not duplicating data; more tables were found"
   ]
  },
  {
   "cell_type": "code",
   "execution_count": 5,
   "metadata": {},
   "outputs": [],
   "source": [
    "# scraping with bs4;\n",
    "\n",
    "def main(soup, index):\n",
    "\n",
    "    soup = soup[index]\n",
    "\n",
    "    row_set = []\n",
    "    for row in soup.find_all('tr'):\n",
    "        \n",
    "        col_set = []\n",
    "\n",
    "        for td in row.find_all('td'):\n",
    "            col_set.append(td.text.strip())\n",
    "        \n",
    "        # regex to clean the data;\n",
    "        try:\n",
    "            col_set[0] = re.search('[a-zA-Z+\\t ]+(\\w*)' , col_set[0]).group().strip().replace('\\t', '')\n",
    "        except:\n",
    "            print('hm oops, got some error', col_set)\n",
    "            \n",
    "        \n",
    "        if len(col_set) >= 6: # slicing relevant and irregular data;\n",
    "            col_set.pop(2)\n",
    "\n",
    "        row_set.append(col_set)\n",
    "\n",
    "\n",
    "    # small cleaning \n",
    "    \n",
    "    try:    row_set.remove([])\n",
    "    except: None\n",
    "\n",
    "    return row_set\n"
   ]
  },
  {
   "cell_type": "code",
   "execution_count": 6,
   "metadata": {},
   "outputs": [
    {
     "name": "stdout",
     "output_type": "stream",
     "text": [
      "hm oops, got some error []\n"
     ]
    },
    {
     "data": {
      "text/html": [
       "<div>\n",
       "<style scoped>\n",
       "    .dataframe tbody tr th:only-of-type {\n",
       "        vertical-align: middle;\n",
       "    }\n",
       "\n",
       "    .dataframe tbody tr th {\n",
       "        vertical-align: top;\n",
       "    }\n",
       "\n",
       "    .dataframe thead th {\n",
       "        text-align: right;\n",
       "    }\n",
       "</style>\n",
       "<table border=\"1\" class=\"dataframe\">\n",
       "  <thead>\n",
       "    <tr style=\"text-align: right;\">\n",
       "      <th></th>\n",
       "      <th>0</th>\n",
       "      <th>1</th>\n",
       "      <th>2</th>\n",
       "      <th>3</th>\n",
       "      <th>4</th>\n",
       "      <th>5</th>\n",
       "      <th>ask_bid</th>\n",
       "    </tr>\n",
       "  </thead>\n",
       "  <tbody>\n",
       "    <tr>\n",
       "      <th>0</th>\n",
       "      <td>Tesouro Prefixado 2027</td>\n",
       "      <td>13,18%</td>\n",
       "      <td>R$ 766,97</td>\n",
       "      <td>01/01/2027</td>\n",
       "      <td>Simule o investimento</td>\n",
       "      <td>None</td>\n",
       "      <td>ask</td>\n",
       "    </tr>\n",
       "    <tr>\n",
       "      <th>1</th>\n",
       "      <td>Tesouro Prefixado 2031</td>\n",
       "      <td>13,24%</td>\n",
       "      <td>R$ 467,73</td>\n",
       "      <td>01/01/2031</td>\n",
       "      <td>Simule o investimento</td>\n",
       "      <td>None</td>\n",
       "      <td>ask</td>\n",
       "    </tr>\n",
       "    <tr>\n",
       "      <th>2</th>\n",
       "      <td>Tesouro Prefixado com juros semestrais 2035</td>\n",
       "      <td>12,97%</td>\n",
       "      <td>R$ 878,82</td>\n",
       "      <td>01/01/2035</td>\n",
       "      <td>Simule o investimento</td>\n",
       "      <td>None</td>\n",
       "      <td>ask</td>\n",
       "    </tr>\n",
       "  </tbody>\n",
       "</table>\n",
       "</div>"
      ],
      "text/plain": [
       "                                             0       1          2           3  \\\n",
       "0                       Tesouro Prefixado 2027  13,18%  R$ 766,97  01/01/2027   \n",
       "1                       Tesouro Prefixado 2031  13,24%  R$ 467,73  01/01/2031   \n",
       "2  Tesouro Prefixado com juros semestrais 2035  12,97%  R$ 878,82  01/01/2035   \n",
       "\n",
       "                       4     5 ask_bid  \n",
       "0  Simule o investimento  None     ask  \n",
       "1  Simule o investimento  None     ask  \n",
       "2  Simule o investimento  None     ask  "
      ]
     },
     "execution_count": 6,
     "metadata": {},
     "output_type": "execute_result"
    }
   ],
   "source": [
    "df0 = pd.DataFrame(main(soup, 0)\n",
    "                  )\n",
    "\n",
    "df0['ask_bid'] = 'ask'\n",
    "df0.head(3)"
   ]
  },
  {
   "cell_type": "code",
   "execution_count": 7,
   "metadata": {},
   "outputs": [
    {
     "name": "stdout",
     "output_type": "stream",
     "text": [
      "hm oops, got some error []\n"
     ]
    },
    {
     "data": {
      "text/html": [
       "<div>\n",
       "<style scoped>\n",
       "    .dataframe tbody tr th:only-of-type {\n",
       "        vertical-align: middle;\n",
       "    }\n",
       "\n",
       "    .dataframe tbody tr th {\n",
       "        vertical-align: top;\n",
       "    }\n",
       "\n",
       "    .dataframe thead th {\n",
       "        text-align: right;\n",
       "    }\n",
       "</style>\n",
       "<table border=\"1\" class=\"dataframe\">\n",
       "  <thead>\n",
       "    <tr style=\"text-align: right;\">\n",
       "      <th></th>\n",
       "      <th>0</th>\n",
       "      <th>1</th>\n",
       "      <th>2</th>\n",
       "      <th>3</th>\n",
       "      <th>ask_bid</th>\n",
       "    </tr>\n",
       "  </thead>\n",
       "  <tbody>\n",
       "    <tr>\n",
       "      <th>0</th>\n",
       "      <td>Tesouro Prefixado 2025</td>\n",
       "      <td>11,39%</td>\n",
       "      <td>R$ 983,44</td>\n",
       "      <td>01/01/2025</td>\n",
       "      <td>bid</td>\n",
       "    </tr>\n",
       "    <tr>\n",
       "      <th>1</th>\n",
       "      <td>Tesouro Prefixado 2026</td>\n",
       "      <td>13,06%</td>\n",
       "      <td>R$ 867,84</td>\n",
       "      <td>01/01/2026</td>\n",
       "      <td>bid</td>\n",
       "    </tr>\n",
       "    <tr>\n",
       "      <th>2</th>\n",
       "      <td>Tesouro Prefixado 2027</td>\n",
       "      <td>13,30%</td>\n",
       "      <td>R$ 765,23</td>\n",
       "      <td>01/01/2027</td>\n",
       "      <td>bid</td>\n",
       "    </tr>\n",
       "  </tbody>\n",
       "</table>\n",
       "</div>"
      ],
      "text/plain": [
       "                        0       1          2           3 ask_bid\n",
       "0  Tesouro Prefixado 2025  11,39%  R$ 983,44  01/01/2025     bid\n",
       "1  Tesouro Prefixado 2026  13,06%  R$ 867,84  01/01/2026     bid\n",
       "2  Tesouro Prefixado 2027  13,30%  R$ 765,23  01/01/2027     bid"
      ]
     },
     "execution_count": 7,
     "metadata": {},
     "output_type": "execute_result"
    }
   ],
   "source": [
    "df1 = pd.DataFrame(main(soup, 1)\n",
    "                   )\n",
    "df1['ask_bid'] = 'bid'\n",
    "df1.head(3)"
   ]
  },
  {
   "cell_type": "code",
   "execution_count": 8,
   "metadata": {},
   "outputs": [],
   "source": [
    "# joining bid and ask cotations;\n",
    "df = pd.concat([df0, df1])"
   ]
  },
  {
   "cell_type": "code",
   "execution_count": 9,
   "metadata": {},
   "outputs": [],
   "source": [
    "# discarting useless cols;\n",
    "\n",
    "df = df.drop(columns = [4,5])"
   ]
  },
  {
   "cell_type": "code",
   "execution_count": 10,
   "metadata": {},
   "outputs": [],
   "source": [
    "# renaming cols \n",
    "\n",
    "columns = ['titulo', 'taxa', 'pu', 'vencimento', 'ask_bid']\n",
    "df.columns = columns"
   ]
  },
  {
   "cell_type": "code",
   "execution_count": 11,
   "metadata": {},
   "outputs": [],
   "source": [
    "df = df.dropna(how = 'all') "
   ]
  },
  {
   "cell_type": "markdown",
   "metadata": {},
   "source": [
    "### Cleaning and Transforming"
   ]
  },
  {
   "cell_type": "code",
   "execution_count": 12,
   "metadata": {},
   "outputs": [
    {
     "data": {
      "text/html": [
       "<div>\n",
       "<style scoped>\n",
       "    .dataframe tbody tr th:only-of-type {\n",
       "        vertical-align: middle;\n",
       "    }\n",
       "\n",
       "    .dataframe tbody tr th {\n",
       "        vertical-align: top;\n",
       "    }\n",
       "\n",
       "    .dataframe thead th {\n",
       "        text-align: right;\n",
       "    }\n",
       "</style>\n",
       "<table border=\"1\" class=\"dataframe\">\n",
       "  <thead>\n",
       "    <tr style=\"text-align: right;\">\n",
       "      <th></th>\n",
       "      <th>titulo</th>\n",
       "      <th>taxa</th>\n",
       "      <th>pu</th>\n",
       "      <th>vencimento</th>\n",
       "      <th>ask_bid</th>\n",
       "    </tr>\n",
       "  </thead>\n",
       "  <tbody>\n",
       "    <tr>\n",
       "      <th>0</th>\n",
       "      <td>Tesouro Prefixado 2027</td>\n",
       "      <td>13,18%</td>\n",
       "      <td>R$ 766,97</td>\n",
       "      <td>01/01/2027</td>\n",
       "      <td>ask</td>\n",
       "    </tr>\n",
       "    <tr>\n",
       "      <th>1</th>\n",
       "      <td>Tesouro Prefixado 2031</td>\n",
       "      <td>13,24%</td>\n",
       "      <td>R$ 467,73</td>\n",
       "      <td>01/01/2031</td>\n",
       "      <td>ask</td>\n",
       "    </tr>\n",
       "    <tr>\n",
       "      <th>2</th>\n",
       "      <td>Tesouro Prefixado com juros semestrais 2035</td>\n",
       "      <td>12,97%</td>\n",
       "      <td>R$ 878,82</td>\n",
       "      <td>01/01/2035</td>\n",
       "      <td>ask</td>\n",
       "    </tr>\n",
       "  </tbody>\n",
       "</table>\n",
       "</div>"
      ],
      "text/plain": [
       "                                        titulo    taxa         pu  vencimento  \\\n",
       "0                       Tesouro Prefixado 2027  13,18%  R$ 766,97  01/01/2027   \n",
       "1                       Tesouro Prefixado 2031  13,24%  R$ 467,73  01/01/2031   \n",
       "2  Tesouro Prefixado com juros semestrais 2035  12,97%  R$ 878,82  01/01/2035   \n",
       "\n",
       "  ask_bid  \n",
       "0     ask  \n",
       "1     ask  \n",
       "2     ask  "
      ]
     },
     "metadata": {},
     "output_type": "display_data"
    },
    {
     "data": {
      "text/plain": [
       "titulo        object\n",
       "taxa          object\n",
       "pu            object\n",
       "vencimento    object\n",
       "ask_bid       object\n",
       "dtype: object"
      ]
     },
     "execution_count": 12,
     "metadata": {},
     "output_type": "execute_result"
    }
   ],
   "source": [
    "pd.set_option('display.max_rows', 1000)\n",
    "\n",
    "display(df.head(3))\n",
    "df.dtypes"
   ]
  },
  {
   "cell_type": "code",
   "execution_count": 13,
   "metadata": {},
   "outputs": [],
   "source": [
    "# numeric dtypes;\n",
    "\n",
    "df.loc[:, 'pu'] = df.pu.str.replace(\"R$ \", '')\n",
    "df.loc[:, 'pu'] = df.pu.str.replace('.', '')\n",
    "df.loc[:, 'pu'] = df.pu.str.replace(',', '.')\n",
    "df['pu'] = df.pu.astype(float)"
   ]
  },
  {
   "cell_type": "code",
   "execution_count": 14,
   "metadata": {},
   "outputs": [],
   "source": [
    "## datetime;\n",
    "\n",
    "df['vencimento'] = df.vencimento.apply(lambda x: dt.datetime.strptime(x, '%d/%m/%Y'))"
   ]
  },
  {
   "cell_type": "code",
   "execution_count": 15,
   "metadata": {},
   "outputs": [
    {
     "data": {
      "text/html": [
       "<div>\n",
       "<style scoped>\n",
       "    .dataframe tbody tr th:only-of-type {\n",
       "        vertical-align: middle;\n",
       "    }\n",
       "\n",
       "    .dataframe tbody tr th {\n",
       "        vertical-align: top;\n",
       "    }\n",
       "\n",
       "    .dataframe thead th {\n",
       "        text-align: right;\n",
       "    }\n",
       "</style>\n",
       "<table border=\"1\" class=\"dataframe\">\n",
       "  <thead>\n",
       "    <tr style=\"text-align: right;\">\n",
       "      <th></th>\n",
       "      <th>titulo</th>\n",
       "      <th>taxa</th>\n",
       "      <th>pu</th>\n",
       "      <th>vencimento</th>\n",
       "      <th>ask_bid</th>\n",
       "    </tr>\n",
       "  </thead>\n",
       "  <tbody>\n",
       "    <tr>\n",
       "      <th>0</th>\n",
       "      <td>Tesouro Prefixado 2027</td>\n",
       "      <td>13,18%</td>\n",
       "      <td>766.97</td>\n",
       "      <td>2027-01-01</td>\n",
       "      <td>ask</td>\n",
       "    </tr>\n",
       "    <tr>\n",
       "      <th>1</th>\n",
       "      <td>Tesouro Prefixado 2031</td>\n",
       "      <td>13,24%</td>\n",
       "      <td>467.73</td>\n",
       "      <td>2031-01-01</td>\n",
       "      <td>ask</td>\n",
       "    </tr>\n",
       "    <tr>\n",
       "      <th>2</th>\n",
       "      <td>Tesouro Prefixado com juros semestrais 2035</td>\n",
       "      <td>12,97%</td>\n",
       "      <td>878.82</td>\n",
       "      <td>2035-01-01</td>\n",
       "      <td>ask</td>\n",
       "    </tr>\n",
       "  </tbody>\n",
       "</table>\n",
       "</div>"
      ],
      "text/plain": [
       "                                        titulo    taxa      pu vencimento  \\\n",
       "0                       Tesouro Prefixado 2027  13,18%  766.97 2027-01-01   \n",
       "1                       Tesouro Prefixado 2031  13,24%  467.73 2031-01-01   \n",
       "2  Tesouro Prefixado com juros semestrais 2035  12,97%  878.82 2035-01-01   \n",
       "\n",
       "  ask_bid  \n",
       "0     ask  \n",
       "1     ask  \n",
       "2     ask  "
      ]
     },
     "metadata": {},
     "output_type": "display_data"
    },
    {
     "data": {
      "text/plain": [
       "titulo                object\n",
       "taxa                  object\n",
       "pu                   float64\n",
       "vencimento    datetime64[ns]\n",
       "ask_bid               object\n",
       "dtype: object"
      ]
     },
     "execution_count": 15,
     "metadata": {},
     "output_type": "execute_result"
    }
   ],
   "source": [
    "display(df.head(3))\n",
    "df.dtypes"
   ]
  },
  {
   "cell_type": "code",
   "execution_count": 16,
   "metadata": {},
   "outputs": [],
   "source": [
    "# test if there is any duplicated data;\n",
    "\n",
    "assert df.duplicated(subset=['titulo', 'vencimento', 'ask_bid'], keep=False).sum() == 0"
   ]
  },
  {
   "cell_type": "code",
   "execution_count": 17,
   "metadata": {},
   "outputs": [
    {
     "data": {
      "text/html": [
       "<div>\n",
       "<style scoped>\n",
       "    .dataframe tbody tr th:only-of-type {\n",
       "        vertical-align: middle;\n",
       "    }\n",
       "\n",
       "    .dataframe tbody tr th {\n",
       "        vertical-align: top;\n",
       "    }\n",
       "\n",
       "    .dataframe thead th {\n",
       "        text-align: right;\n",
       "    }\n",
       "</style>\n",
       "<table border=\"1\" class=\"dataframe\">\n",
       "  <thead>\n",
       "    <tr style=\"text-align: right;\">\n",
       "      <th></th>\n",
       "      <th>titulo</th>\n",
       "      <th>taxa</th>\n",
       "      <th>pu</th>\n",
       "      <th>vencimento</th>\n",
       "      <th>ask_bid</th>\n",
       "      <th>data</th>\n",
       "    </tr>\n",
       "  </thead>\n",
       "  <tbody>\n",
       "    <tr>\n",
       "      <th>0</th>\n",
       "      <td>Tesouro Prefixado 2027</td>\n",
       "      <td>13,18%</td>\n",
       "      <td>766.97</td>\n",
       "      <td>2027-01-01</td>\n",
       "      <td>ask</td>\n",
       "      <td>2024-11-02</td>\n",
       "    </tr>\n",
       "    <tr>\n",
       "      <th>1</th>\n",
       "      <td>Tesouro Prefixado 2031</td>\n",
       "      <td>13,24%</td>\n",
       "      <td>467.73</td>\n",
       "      <td>2031-01-01</td>\n",
       "      <td>ask</td>\n",
       "      <td>2024-11-02</td>\n",
       "    </tr>\n",
       "    <tr>\n",
       "      <th>2</th>\n",
       "      <td>Tesouro Prefixado com juros semestrais 2035</td>\n",
       "      <td>12,97%</td>\n",
       "      <td>878.82</td>\n",
       "      <td>2035-01-01</td>\n",
       "      <td>ask</td>\n",
       "      <td>2024-11-02</td>\n",
       "    </tr>\n",
       "    <tr>\n",
       "      <th>3</th>\n",
       "      <td>Tesouro Selic 2027</td>\n",
       "      <td>SELIC + 0,0547%</td>\n",
       "      <td>15545.75</td>\n",
       "      <td>2027-03-01</td>\n",
       "      <td>ask</td>\n",
       "      <td>2024-11-02</td>\n",
       "    </tr>\n",
       "    <tr>\n",
       "      <th>4</th>\n",
       "      <td>Tesouro Selic 2029</td>\n",
       "      <td>SELIC + 0,1246%</td>\n",
       "      <td>15482.50</td>\n",
       "      <td>2029-03-01</td>\n",
       "      <td>ask</td>\n",
       "      <td>2024-11-02</td>\n",
       "    </tr>\n",
       "  </tbody>\n",
       "</table>\n",
       "</div>"
      ],
      "text/plain": [
       "                                        titulo             taxa        pu  \\\n",
       "0                       Tesouro Prefixado 2027           13,18%    766.97   \n",
       "1                       Tesouro Prefixado 2031           13,24%    467.73   \n",
       "2  Tesouro Prefixado com juros semestrais 2035           12,97%    878.82   \n",
       "3                           Tesouro Selic 2027  SELIC + 0,0547%  15545.75   \n",
       "4                           Tesouro Selic 2029  SELIC + 0,1246%  15482.50   \n",
       "\n",
       "  vencimento ask_bid        data  \n",
       "0 2027-01-01     ask  2024-11-02  \n",
       "1 2031-01-01     ask  2024-11-02  \n",
       "2 2035-01-01     ask  2024-11-02  \n",
       "3 2027-03-01     ask  2024-11-02  \n",
       "4 2029-03-01     ask  2024-11-02  "
      ]
     },
     "execution_count": 17,
     "metadata": {},
     "output_type": "execute_result"
    }
   ],
   "source": [
    "# Today's date to register alongside the values of the scraped data;\n",
    "d0 = dt.date.today()\n",
    "\n",
    "df['data'] = d0\n",
    "df.head()"
   ]
  },
  {
   "cell_type": "markdown",
   "metadata": {},
   "source": [
    "<h3> Putting On DB Postgres </h3>"
   ]
  },
  {
   "cell_type": "markdown",
   "metadata": {},
   "source": [
    "<h5> DB Credentials </h5>"
   ]
  },
  {
   "cell_type": "code",
   "execution_count": 18,
   "metadata": {},
   "outputs": [],
   "source": [
    "from sqlalchemy import text, create_engine\n",
    "\n",
    "db_txt = 'creds.txt'\n",
    "\n",
    "with open(db_txt, 'r') as f:\n",
    "    uri = f.readline()[:-1] # to remove \\n\n"
   ]
  },
  {
   "cell_type": "code",
   "execution_count": 19,
   "metadata": {},
   "outputs": [],
   "source": [
    "# creating engine with the database url passed\n",
    "engine = create_engine(uri)"
   ]
  },
  {
   "cell_type": "markdown",
   "metadata": {},
   "source": [
    "<h5> Create a table to store scraped data </h5>"
   ]
  },
  {
   "cell_type": "code",
   "execution_count": 20,
   "metadata": {},
   "outputs": [
    {
     "name": "stdout",
     "output_type": "stream",
     "text": [
      "Table already exists in DB. Drop or switch to another db.\n"
     ]
    }
   ],
   "source": [
    "query = \"\"\" CREATE TABLE br_treasury_titles(\n",
    "                            data date,\n",
    "                            titulo varchar(64), \n",
    "                            taxa varchar(64), \n",
    "                            pu numeric(7,2), \n",
    "                            vencimento date,\n",
    "                            ask_bid varchar(16)\n",
    "                            )\"\"\"\n",
    "\n",
    "cursor = engine.connect()\n",
    "\n",
    "\n",
    "try:\n",
    "    cursor.execute(text(query))\n",
    "    cursor.commit()\n",
    "    cursor.close()\n",
    "\n",
    "except:\n",
    "    print(\"Table already exists in DB. Drop or switch to another db.\")\n"
   ]
  },
  {
   "cell_type": "code",
   "execution_count": 21,
   "metadata": {},
   "outputs": [],
   "source": [
    "# ADD Constraint for unique title, expire date and day of scraping\n",
    "\n",
    "with engine.connect() as con:\n",
    "    \n",
    "    try:\n",
    "        con.execute(text(\"\"\"ALTER TABLE br_treasury_titles ADD CONSTRAINT \"uniTiDaVen\" UNIQUE (titulo, vencimento, data, ask_bid)\"\"\"))\n",
    "        con.commit()\n",
    "    except:\n",
    "        None"
   ]
  },
  {
   "cell_type": "code",
   "execution_count": 22,
   "metadata": {},
   "outputs": [],
   "source": [
    "# Inserting the Data (load phase); \n",
    "\n",
    "with engine.connect() as con:\n",
    "\n",
    "    try:\n",
    "        df.to_sql(name = 'br_treasury_titles', \n",
    "              con=con,\n",
    "              schema='public',\n",
    "              if_exists='append',\n",
    "              index=False)\n",
    "        \n",
    "    except:\n",
    "        print('there is duplicated data')\n",
    "        #duplicated = True"
   ]
  },
  {
   "cell_type": "markdown",
   "metadata": {},
   "source": [
    "<h3> ### </h3>"
   ]
  },
  {
   "cell_type": "code",
   "execution_count": null,
   "metadata": {},
   "outputs": [],
   "source": []
  },
  {
   "cell_type": "code",
   "execution_count": null,
   "metadata": {},
   "outputs": [],
   "source": []
  },
  {
   "cell_type": "code",
   "execution_count": null,
   "metadata": {},
   "outputs": [],
   "source": []
  },
  {
   "cell_type": "code",
   "execution_count": null,
   "metadata": {},
   "outputs": [],
   "source": []
  }
 ],
 "metadata": {
  "kernelspec": {
   "display_name": "Python 3",
   "language": "python",
   "name": "python3"
  },
  "language_info": {
   "codemirror_mode": {
    "name": "ipython",
    "version": 3
   },
   "file_extension": ".py",
   "mimetype": "text/x-python",
   "name": "python",
   "nbconvert_exporter": "python",
   "pygments_lexer": "ipython3",
   "version": "3.11.5"
  }
 },
 "nbformat": 4,
 "nbformat_minor": 2
}
